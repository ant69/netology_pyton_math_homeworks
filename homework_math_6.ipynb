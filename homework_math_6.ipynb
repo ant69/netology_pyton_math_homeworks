{
 "cells": [
  {
   "cell_type": "markdown",
   "id": "fba43df6",
   "metadata": {},
   "source": [
    "# Домашнее задание\n",
    "## Домашнее задание №6 - Продвинутая оптимизация\n",
    "### Задание\n",
    "\n",
    "Проведите следующий эксперимент: для функции Растригина найдите среднее и минимальное значение целевой функции по результатам 100 запусков процесса минимизации, а также среднее число итераций при случайных начальных условиях в диапазоне [-5, 5].\n",
    "\n",
    "Эксперимент необходимо провести для размерностей 2, 3, 4.\n",
    "\n",
    "f(x) = A*n + SUM(Xi**2 - A*cos(2*Pi*Xi))\n",
    "\n",
    "Целью данного вычислительного эксперимента является выбор наиболее эффективного метода для данной задачи. Исследование нужно выполнить с использованием метода Дифференциальной эволюции (значения параметра recombination 0.3 и 0.7), а также встроенных методов функции Minimize:\n",
    "\n",
    "- Nelder-Mead\n",
    "- BFGS\n",
    "- Newton-CG\n",
    "\n"
   ]
  },
  {
   "cell_type": "code",
   "execution_count": 1,
   "id": "21d8fa48",
   "metadata": {},
   "outputs": [],
   "source": [
    "# import matplotlib.pyplot as plt\n",
    "import pandas as pd\n",
    "import numpy as np\n",
    "import scipy\n",
    "import sympy as sym\n",
    "from scipy.optimize import minimize\n",
    "from scipy.optimize import differential_evolution"
   ]
  },
  {
   "cell_type": "code",
   "execution_count": 5,
   "id": "7afb3daa",
   "metadata": {},
   "outputs": [
    {
     "name": "stdout",
     "output_type": "stream",
     "text": [
      "x1**2 + x2**2 + x3**2 - 10*cos(6.28318530717959*x1) - 10*cos(6.28318530717959*x2) - 10*cos(6.28318530717959*x3) + 20\n",
      "2*x1 + 62.8318530717959*sin(6.28318530717959*x1)\n"
     ]
    }
   ],
   "source": [
    "# Для самопроверки определяем производную функции Растригина по одной из переменных (в случае, если А=10)\n",
    "# Производные потребуются далее для формирования функции, возвращающей вектор градиента для метода оптимизации Newton-CG\n",
    "XX = [sym.Symbol('x1'), sym.Symbol('x2'), sym.Symbol('x3')]\n",
    "# Определяем функцию\n",
    "fnc = 20 + XX[0]**2 - 10*sym.cos(2*np.pi*XX[0]) + XX[1]**2 - 10*sym.cos(2*np.pi*XX[1]) + XX[2]**2 - 10*sym.cos(2*np.pi*XX[2])\n",
    "print(fnc)\n",
    "res=sym.diff(fnc, XX[0])\n",
    "print(res)"
   ]
  },
  {
   "cell_type": "code",
   "execution_count": 7,
   "id": "ecb7824f",
   "metadata": {},
   "outputs": [
    {
     "data": {
      "text/plain": [
       "[0.0, 0.0, 0.0]"
      ]
     },
     "execution_count": 7,
     "metadata": {},
     "output_type": "execute_result"
    }
   ],
   "source": [
    "# Вначале определяем целевую функцию\n",
    "# Поскольку везде пишут, что A=10, по умолчанию зададим это значение.\n",
    "# Формулу перепишем, затащив A под сумму, чтобы минимизировать код функции\n",
    "def rastrigin(X, A=10):\n",
    "    return sum(list(map(lambda x: x**2 + A*(1 - np.cos(2*np.pi*x)), X)))\n",
    "\n",
    "# Функция для вычисления вектора градиента функции Растригина для заданной точки X\n",
    "def jacobian(X):\n",
    "    jac = []\n",
    "    for xx in X:\n",
    "         jac.append(20*np.pi*np.sin(2*np.pi*xx) + 2*xx)\n",
    "    return jac\n",
    "\n",
    "\n",
    "# Определяем для размерностей 2, 3 и 4 соответственно диапазоны значений\n",
    "bound = (-5, 5)\n",
    "boundaries = [[], [], [bound, bound], [bound, bound, bound], [bound, bound, bound, bound]]\n",
    "jacobian([0,0,0])"
   ]
  },
  {
   "cell_type": "code",
   "execution_count": 9,
   "id": "a4e9a122",
   "metadata": {},
   "outputs": [],
   "source": [
    "# Определяем функции для вычисления минимума для функции rastrigin для каждого из пяти методов, которые мы сравниваем\n",
    "# Метод Нелдера-Меда\n",
    "def min_nelder_mead(X):\n",
    "    return minimize(rastrigin, X, method='Nelder-Mead', options={'xtol': 1e-1, 'disp': False}, bounds=boundaries[len(X)])\n",
    "\n",
    "# Метод BFGS\n",
    "def min_bfgs(X):\n",
    "    return minimize(rastrigin, X, method='BFGS', jac=jacobian, options={'gtol': 1e-1, 'disp': False}, bounds=boundaries[len(X)])\n",
    "\n",
    "# Метод Newton-CG\n",
    "def min_newton_cg(X):\n",
    "    return minimize(rastrigin, X, method='Newton-CG', jac=jacobian, options={'xtol': 1e-1, 'disp': False})\n",
    "\n",
    "# Метод Дифференциальной эволюции, recombinatio=0.3\n",
    "def min_dif_evol_03(X):\n",
    "    return differential_evolution(rastrigin, boundaries[len(X)], seed=21,tol=0.1,recombination=0.3)\n",
    "\n",
    "# Метод Дифференциальной эволюции, recombinatio=0.7\n",
    "def min_dif_evol_07(X):\n",
    "    return differential_evolution(rastrigin, boundaries[len(X)], seed=21,tol=0.1,recombination=0.7)\n",
    "\n",
    "min_functions = {\n",
    "    'Nelder-Mead': min_nelder_mead, \n",
    "    'BFGS': min_bfgs, \n",
    "    'Newton_CG': min_newton_cg, \n",
    "    'Differencial Evolution 03': min_dif_evol_03, \n",
    "    'Differencial Evolution 07': min_dif_evol_07\n",
    "}\n"
   ]
  },
  {
   "cell_type": "code",
   "execution_count": 11,
   "id": "c821f5c3",
   "metadata": {},
   "outputs": [
    {
     "name": "stdout",
     "output_type": "stream",
     "text": [
      "\n",
      "\n",
      "Nelder-Mead\n",
      "\n",
      "Для размерности 2:\n",
      "Среднее значение 24.4, Минимальное значение 15\n",
      "\n",
      "Для размерности 3:\n",
      "Среднее значение 47.79, Минимальное значение 26\n",
      "\n",
      "Для размерности 4:\n",
      "Среднее значение 85.84, Минимальное значение 44\n",
      "\n",
      "\n",
      "BFGS\n",
      "\n",
      "Для размерности 2:\n",
      "Среднее значение 5.41, Минимальное значение 3\n",
      "\n",
      "Для размерности 3:\n",
      "Среднее значение 7.18, Минимальное значение 5\n",
      "\n",
      "Для размерности 4:\n",
      "Среднее значение 10.14, Минимальное значение 7\n",
      "\n",
      "\n",
      "Newton_CG\n",
      "\n",
      "Для размерности 2:\n",
      "Среднее значение 2.47, Минимальное значение 0\n",
      "\n",
      "Для размерности 3:\n",
      "Среднее значение 2.36, Минимальное значение 0\n",
      "\n",
      "Для размерности 4:\n",
      "Среднее значение 2.48, Минимальное значение 1\n",
      "\n",
      "\n",
      "Differencial Evolution 03\n",
      "\n",
      "Для размерности 2:\n",
      "Среднее значение 0.0, Минимальное значение 0.0\n",
      "\n",
      "Для размерности 3:\n",
      "Среднее значение 0.0, Минимальное значение 0.0\n",
      "\n",
      "Для размерности 4:\n",
      "Среднее значение 0.0, Минимальное значение 0.0\n",
      "\n",
      "\n",
      "Differencial Evolution 07\n",
      "\n",
      "Для размерности 2:\n",
      "Среднее значение 0.0, Минимальное значение 0.0\n",
      "\n",
      "Для размерности 3:\n",
      "Среднее значение 0.0, Минимальное значение 0.0\n",
      "\n",
      "Для размерности 4:\n",
      "Среднее значение 0.0, Минимальное значение 0.0\n"
     ]
    }
   ],
   "source": [
    "# Попытался основное тело программы сделать максимально компактным.\n",
    "for method_name, min_func in min_functions.items():\n",
    "    print(f\"\\n\\n{method_name}\")\n",
    "    for dimension in [2,3,4]:\n",
    "        itList=[]\n",
    "        print(f\"\\nДля размерности {dimension}:\")\n",
    "        for kk in range(100):\n",
    "            X=np.random.uniform(low=-5,high=5,size=(dimension,))\n",
    "            res = min_func(X)\n",
    "\n",
    "            if 'Dif' in method_name:\n",
    "                itList.append(res.fun)    \n",
    "            else:\n",
    "                itList.append(res.nit)\n",
    "            \n",
    "        print(f'Среднее значение {sum(itList)/len(itList)}, Минимальное значение {min(itList)}')"
   ]
  },
  {
   "cell_type": "code",
   "execution_count": 13,
   "id": "78e09184",
   "metadata": {},
   "outputs": [],
   "source": [
    "# Мне очень не нравятся полученные результаты, но может быть, они и не могли получиться другими?\n",
    "# Метод Нелдера-Мида вообще неадекватен, а полученные с его помощью цифры кажутся мне по-меньшей мере странными\n",
    "# Возможно, я выбрал неудачные параметры или просто не указал что-то важное при вызове функции.\n",
    "# \n",
    "# Дифференциальная эволюция одинаково эффективно сработала для всех вариантов размерности и для всех вариантов параметра\n",
    "# recombination, выдав правильные результаты. Но для каждой размерности сто запусков функции занимали минуты полторы.\n",
    "# Это тоже кажется мне ненормальным и, возможно, связано также с неудачно подобранными параметрами.\n",
    "#\n",
    "# Буду благодарен за любые комментарии и рекомендации в этой связи."
   ]
  },
  {
   "cell_type": "code",
   "execution_count": null,
   "id": "528ee9a6",
   "metadata": {},
   "outputs": [],
   "source": []
  }
 ],
 "metadata": {
  "kernelspec": {
   "display_name": "Python 3",
   "language": "python",
   "name": "python3"
  },
  "language_info": {
   "codemirror_mode": {
    "name": "ipython",
    "version": 3
   },
   "file_extension": ".py",
   "mimetype": "text/x-python",
   "name": "python",
   "nbconvert_exporter": "python",
   "pygments_lexer": "ipython3",
   "version": "3.8.8"
  }
 },
 "nbformat": 4,
 "nbformat_minor": 5
}
