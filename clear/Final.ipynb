{
 "cells": [
  {
   "cell_type": "code",
   "execution_count": 1,
   "metadata": {},
   "outputs": [],
   "source": [
    "import matplotlib.pyplot as plt\n",
    "import numpy as np\n",
    "\n",
    "from scipy.optimize import minimize\n",
    "from scipy.stats import norm\n",
    "%matplotlib inline"
   ]
  },
  {
   "cell_type": "markdown",
   "metadata": {},
   "source": [
    "## Задание 1"
   ]
  },
  {
   "cell_type": "markdown",
   "metadata": {},
   "source": [
    "Дана матрица рейтингов фильмов (строки - пользователи (10 человек), столбцы - фильмы (15 фильмов))"
   ]
  },
  {
   "cell_type": "code",
   "execution_count": 2,
   "metadata": {},
   "outputs": [],
   "source": [
    "raitings = np.array([[ 4,  4,  9,  4,  1,  6, 10,  7,  9,  6,  9,  2,  8,  6,  6],\n",
    "                     [ 9,  2,  5, 10,  7,  8, 10,  5,  6,  2,  1,  6,  8,  9,  7],\n",
    "                     [ 1,  6,  8,  8,  4,  9,  3,  8, 10,  5,  2,  6,  8,  1,  6],\n",
    "                     [ 6,  1,  9,  7,  7,  9,  2,  3,  5,  1,  6,  6,  3,  2,  7],\n",
    "                     [ 3,  7,  3,  5,  7,  9,  9,  6,  2,  9,  1,  2,  8, 10,  6],\n",
    "                     [ 8,  3,  7,  3,  8,  6,  1,  8,  8,  6,  1,  9,  4, 10,  1],\n",
    "                     [ 9,  8,  4,  8,  8, 10,  6,  1,  1,  2,  9,  5,  2,  7,  2],\n",
    "                     [ 4,  1,  6,  4,  3, 10,  4,  4,  2,  8,  7,  9,  3,  8,  3],\n",
    "                     [ 2,  7,  7,  6, 10,  6,  8,  9,  8,  6, 10,  1,  7, 10,  4],\n",
    "                     [ 5, 10,  8,  8,  9,  7,  2,  9,  9, 10,  8,  8,  8,  6, 10]])"
   ]
  },
  {
   "cell_type": "markdown",
   "metadata": {},
   "source": [
    "<b> a) </b> Необходимо найти наиболее похожего пользователя по косинусной метрике для каждого из (ответ: 10 пар-индексов вида (x, y), где y - наиболее похожий пользователь на пользователя x)."
   ]
  },
  {
   "cell_type": "code",
   "execution_count": 3,
   "metadata": {},
   "outputs": [],
   "source": [
    "### YOUR CODE HERE"
   ]
  },
  {
   "cell_type": "markdown",
   "metadata": {},
   "source": [
    "<b> b) </b> В реальных задачах фильмов явно не 15, а сотни тысяч и даже миллионы. Также матрицы оценок очень разреженные, поэтому можно хранить сжатые представления для каждого пользователя. Попробуйте сжать признаковое пространство до размерности 5 любым известным вам методом и повторить пункт <b> a) </b>. Проверьте, для скольких пользователей изменился ближайший после такого сжатия."
   ]
  },
  {
   "cell_type": "code",
   "execution_count": 4,
   "metadata": {},
   "outputs": [],
   "source": [
    "### YOUR CODE HERE"
   ]
  },
  {
   "cell_type": "markdown",
   "metadata": {},
   "source": [
    "## Задание 2"
   ]
  },
  {
   "cell_type": "markdown",
   "metadata": {},
   "source": [
    "Вычислите производную $tg^2(sin(x) + cos(2x+3))$ в точке $x_0=1$ на python и на бумаге (просто подставить точку в производную и ничего не упрощать). Рекомендуется использовать библиотеку sympy для проверки формулы производной, полученной на бумаге. Вычисление производной в точке можно выполнить с помощью sympy или с помощью <a href=\"https://docs.scipy.org/doc/scipy/reference/generated/scipy.misc.derivative.html\">scipy.misc.derivative</a>.\n"
   ]
  },
  {
   "cell_type": "code",
   "execution_count": 5,
   "metadata": {},
   "outputs": [],
   "source": [
    "### YOUR CODE HERE"
   ]
  },
  {
   "cell_type": "markdown",
   "metadata": {},
   "source": [
    "## Задание 3"
   ]
  },
  {
   "cell_type": "markdown",
   "metadata": {},
   "source": [
    "Часто в реальных задачах случается ситуация, когда необходимо понять, какое распределение и с какими параметрами лучшим образом описывает данные. Ведь поняв, что некоторая метрика хорошо описывается, например, нормальным распределением с параметрами 3 и 8.5 мы можем для быстрых визуализаций и экспериментов хранить всего 2 числа - параметра распределения и название самого распределения вместо гигабайтов самих данных. В этом задании мы решим такую задачу 3-мя разными способами: первые 2 более общие для \"подгонки\" любых функций и 3-ий для распределений."
   ]
  },
  {
   "cell_type": "code",
   "execution_count": 6,
   "metadata": {},
   "outputs": [],
   "source": [
    "x = np.linspace(-30, 30, 300)\n",
    "y = [11.642,  9.467,  8.227, 10.372,  8.768,  9.544,  8.202, 10.106,\n",
    "       10.664, 11.03 , 12.673, 10.445, 12.096, 15.562, 10.55 , 10.81 ,\n",
    "        8.833, 12.087, 10.463,  9.149,  8.633, 12.233, 10.815, 11.346,\n",
    "        4.863, 11.602,  9.997, 10.578,  9.097,  8.414, 11.852, 14.262,\n",
    "        8.527,  5.725,  6.567, 10.767,  4.84 ,  3.433, 11.152, 10.613,\n",
    "       13.44 ,  7.327,  9.3  , 11.303, 10.732, 10.334, 16.763,  8.541,\n",
    "       16.307, 10.787, 10.362,  8.362, 11.78 , 13.002,  8.413,  9.334,\n",
    "       11.631, 11.935,  7.433, 13.87 ,  8.825, 11.377,  6.38 , 11.774,\n",
    "       13.307,  8.946, 10.171, 11.951,  7.612, 12.916,  6.851,  6.713,\n",
    "        8.817,  9.485,  9.07 , 10.886, 11.193, 11.707, 10.121, 13.486,\n",
    "       13.641,  7.749,  6.928, 12.619,  9.498, 10.032,  8.561, 12.907,\n",
    "       18.546, 10.533, 10.127,  8.875,  9.462, 10.296, 15.635,  9.33 ,\n",
    "        5.883,  6.671, 11.746, 13.132,  5.702, 12.136,  8.054, 10.632,\n",
    "       12.995, 10.931, 12.841,  9.757,  9.558, 11.962,  9.997,  8.256,\n",
    "       14.05 , 11.056,  4.397, 15.013, 10.908,  5.036, 14.101, 11.065,\n",
    "        6.535,  9.017,  9.327,  8.357, 12.342, 10.808, 10.387,  8.018,\n",
    "        7.879,  7.686,  5.364, 10.494,  5.518, 13.415,  7.873,  9.122,\n",
    "       11.167,  7.197, 15.408, 10.881, 11.821, 10.617, 11.34 , 13.319,\n",
    "       11.407,  7.642, 10.962, 11.6  , 11.243,  6.225, 12.527,  7.485,\n",
    "        6.367,  5.218,  8.957, 11.71 , 13.981, 11.627, 11.292, 11.07 ,\n",
    "        7.632, 11.931, 11.732, 10.35 , 14.874, 10.067,  6.804, 12.953,\n",
    "        9.68 , 10.531,  7.245,  6.795, 14.585,  7.385, 17.949, 13.315,\n",
    "       11.558,  9.921,  9.27 , 13.003, 11.817,  7.785, 12.956, 11.09 ,\n",
    "       15.251, 13.163, 10.076, 12.429,  5.511,  8.672,  2.814,  8.762,\n",
    "       12.139, 10.646, 11.607,  6.45 ,  3.825, 10.043, 10.562,  8.066,\n",
    "       11.735,  5.764,  8.254, 10.533, 13.903, 12.375, 11.112, 15.186,\n",
    "       11.619, 12.749,  8.023,  8.477, 10.303,  6.821, 13.099,  7.954,\n",
    "       10.672,  7.655,  3.747, 14.4  , 10.428,  6.976,  8.336, 13.423,\n",
    "        7.458, 13.031, 11.287,  9.101, 10.941, 17.224, 10.406, 10.363,\n",
    "       16.617, 11.836, 12.659, 12.633, 14.962,  6.785,  5.254,  4.079,\n",
    "       12.576, 12.682, 12.992, 10.544, 11.365,  7.373, 14.686,  7.201,\n",
    "       14.893, 12.19 ,  9.647,  9.463, 11.616,  7.891,  8.553,  8.555,\n",
    "        5.347, 11.246, 15.385,  8.883, 11.999, 10.675,  8.107, 12.795,\n",
    "       13.337,  9.084, 11.664, 11.509,  8.589, 14.145, 10.385, 16.605,\n",
    "        6.097,  6.718, 11.883,  5.8  ,  8.964,  8.118, 10.759, 13.492,\n",
    "        9.573, 12.696, 10.075, 11.065, 14.588,  6.215, 13.786,  7.367,\n",
    "       12.094, 10.403, 10.923, 13.554, 11.057,  8.593, 16.848,  7.137,\n",
    "        8.549,  8.899, 11.641, 12.491]"
   ]
  },
  {
   "cell_type": "code",
   "execution_count": 7,
   "metadata": {},
   "outputs": [
    {
     "data": {
      "image/png": "[encoded data removed]",
      "text/plain": [
       "<Figure size 432x288 with 1 Axes>"
      ]
     },
     "metadata": {
      "needs_background": "light"
     },
     "output_type": "display_data"
    }
   ],
   "source": [
    "plt.hist(y, bins=30)\n",
    "plt.show()"
   ]
  },
  {
   "cell_type": "markdown",
   "metadata": {},
   "source": [
    "В библиотеке <a href=\"https://docs.scipy.org/doc/scipy/reference/stats.html\">scipy.stats</a> есть список непрерывных распределений и у каждого из них есть метод fit(data), позволяющий найти наилучшие параметры распределения по данным. Вам необходимо выбрать подходящее, на ваш взгляд, распределение и найти к нему оптимальные параметры с помощью метода fit(x)."
   ]
  },
  {
   "cell_type": "code",
   "execution_count": 8,
   "metadata": {},
   "outputs": [],
   "source": [
    "### YOUR CODE HERE"
   ]
  },
  {
   "cell_type": "markdown",
   "metadata": {},
   "source": [
    "## Задание 4"
   ]
  },
  {
   "cell_type": "markdown",
   "metadata": {},
   "source": [
    "Наверняка вы когда-то слышали про такое понятие, как A/B тесты, а если нет, вот неплохая вводная <a href=\"https://habr.com/ru/post/233911/\"> статья </a> по ним. В этом задании мы поймём, как пройденное понятие Центральной предельной теоремы связано с таким важным прикладным инструментом, как A/B тестирование. \n",
    "\n",
    "Пусть для одной группы пользователей мы показываем 1-ый тип дизайна сайта, а для другой группы 2-ой. Траты пользователей первой группы генерируются случайной величиной rv1, траты пользователей второй группы - rv2. Поэкспериментируйте с количеством пользователей, размерами выборок (как в ЦПТ) и постройте гистограммы средних. Проанализируйте, когда визуально разница становится заметной. Этот механизм применяется в реальных задачах, но решение о разнице происходит по результатам статистических тестов (они не входили в программу нашего курса, но очень рекомендую о них прочитать)."
   ]
  },
  {
   "cell_type": "code",
   "execution_count": 9,
   "metadata": {},
   "outputs": [],
   "source": [
    "rv1 = norm(loc=101, scale=2)\n",
    "rv2 = norm(loc=102, scale=3)"
   ]
  },
  {
   "cell_type": "code",
   "execution_count": 10,
   "metadata": {},
   "outputs": [],
   "source": [
    "### YOUR CODE"
   ]
  },
  {
   "cell_type": "markdown",
   "metadata": {},
   "source": [
    "## Задание 5"
   ]
  },
  {
   "cell_type": "markdown",
   "metadata": {},
   "source": [
    "Вычислите собственные значения и собственные вектора матрицы с помощью функции python и по алгоритму (на бумаге или в latex прямо в ноутбуке):"
   ]
  },
  {
   "cell_type": "code",
   "execution_count": 11,
   "metadata": {},
   "outputs": [],
   "source": [
    "A = [[-1, -6], \n",
    "     [2, 6]]"
   ]
  },
  {
   "cell_type": "code",
   "execution_count": 12,
   "metadata": {},
   "outputs": [],
   "source": [
    "### YOUR SOLUTION HERE"
   ]
  },
  {
   "cell_type": "markdown",
   "metadata": {},
   "source": [
    "Найдите обратную матрицу для матрицы A и посчитайте собственные значения для неё, проанализируйте взаимосвязь первой пары и второй пары собственных значений."
   ]
  },
  {
   "cell_type": "code",
   "execution_count": 13,
   "metadata": {},
   "outputs": [],
   "source": [
    "### YOUR SOLUTION HERE"
   ]
  },
  {
   "cell_type": "markdown",
   "metadata": {},
   "source": [
    "## Задание 6"
   ]
  },
  {
   "cell_type": "markdown",
   "metadata": {},
   "source": [
    "Представим, что мы живём в параллельной вселенной, где существуют монетки с тремя гранями.\n",
    "При подбрасывании монетки выпадение 1-ой грани происходит с вероятностью 0.2, 2-ой грани - 0.5, 3-ей грани - 0.3.\n",
    "Какова вероятность при 4-х подбрасываниях увидеть все 3 грани (подбрасывания осуществляются независимо друг от друга)?\n",
    "\n",
    "Решение для данного задания можно посчитать явно, но также можно запустить процесс симуляции, который с довольно небольшой погрешностью даст правильный ответ."
   ]
  },
  {
   "cell_type": "code",
   "execution_count": 14,
   "metadata": {},
   "outputs": [],
   "source": [
    "### YOUR SOLUTION HERE"
   ]
  },
  {
   "cell_type": "code",
   "execution_count": null,
   "metadata": {},
   "outputs": [],
   "source": []
  }
 ],
 "metadata": {
  "kernelspec": {
   "display_name": "Python 3",
   "language": "python",
   "name": "python3"
  },
  "language_info": {
   "codemirror_mode": {
    "name": "ipython",
    "version": 3
   },
   "file_extension": ".py",
   "mimetype": "text/x-python",
   "name": "python",
   "nbconvert_exporter": "python",
   "pygments_lexer": "ipython3",
   "version": "3.7.6"
  }
 },
 "nbformat": 4,
 "nbformat_minor": 5
}
