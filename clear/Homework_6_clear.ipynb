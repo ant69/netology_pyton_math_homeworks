{
 "cells": [
  {
   "cell_type": "markdown",
   "metadata": {},
   "source": [
    "## Домашнее задание №6 - Продвинутая оптимизация"
   ]
  },
  {
   "cell_type": "markdown",
   "metadata": {},
   "source": [
    "### Задание"
   ]
  },
  {
   "cell_type": "markdown",
   "metadata": {},
   "source": [
    "Проведите следующий эксперимент: для функции Растригина найдите среднее и минимальное значение целевой функции по результатам 100 запусков процесса минимизации, а также среднее число итераций при случайных начальных условиях в диапазоне [-5, 5]. Эксперимент необходимо провести для размерностей 2, 3, 4.\n",
    "\n",
    "\n",
    "$$f(x) = An + \\sum_{i=1}^n (x_i^2-Acos(2\\pi x_i)$$"
   ]
  },
  {
   "cell_type": "markdown",
   "metadata": {},
   "source": [
    "Целью данного вычислительного эксперимента является выбор наиболее эффективного метода для данной задачи. Исследование нужно выполнить с использованием метода Дифферециальной эволюции (значения параметра recombination $0.3$ и $0.7$), а также встроенных методов функции Minimize: \n",
    "\n",
    "* ‘Nelder-Mead’ [подробнее](https://docs.scipy.org/doc/scipy/reference/optimize.minimize-neldermead.html#optimize-minimize-neldermead)\n",
    "* ‘BFGS’ [подробнее](https://docs.scipy.org/doc/scipy/reference/optimize.minimize-bfgs.html#optimize-minimize-bfgs)\n",
    "* ‘Newton-CG’ [подробнее](https://docs.scipy.org/doc/scipy/reference/optimize.minimize-newtoncg.html#optimize-minimize-newtoncg)"
   ]
  },
  {
   "cell_type": "markdown",
   "metadata": {},
   "source": [
    "Всего получается пять экспериментов. Вы также можете поэкспериментировать с [другими методами оптимизации](https://habr.com/ru/company/prequel/blog/568496/), но это не обязательно для зачета.\n"
   ]
  },
  {
   "cell_type": "code",
   "execution_count": 1,
   "metadata": {},
   "outputs": [],
   "source": [
    "### YOUR CODE HERE"
   ]
  }
 ],
 "metadata": {
  "kernelspec": {
   "display_name": "Python 3",
   "language": "python",
   "name": "python3"
  },
  "language_info": {
   "codemirror_mode": {
    "name": "ipython",
    "version": 3
   },
   "file_extension": ".py",
   "mimetype": "text/x-python",
   "name": "python",
   "nbconvert_exporter": "python",
   "pygments_lexer": "ipython3",
   "version": "3.7.6"
  }
 },
 "nbformat": 4,
 "nbformat_minor": 2
}
