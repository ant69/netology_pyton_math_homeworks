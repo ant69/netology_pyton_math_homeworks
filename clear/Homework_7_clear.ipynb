{
 "cells": [
  {
   "cell_type": "markdown",
   "metadata": {},
   "source": [
    "Для заданий 1 и 2 необходимо использовать общие данные.\n",
    "\n",
    "Известно, что пользователь может зайти в сервис с (1) приложения на мобильном устройстве, (2) приложения на компьютере или (3) через web-интерфейс.\n",
    "Соотношение методов входа следующее: 25% - (1), 30% - (2), 45% - (3). После входа на сайт пользователь выполняет одно из 3-х видов действий: покупает подписку, покупает отдельный товар, покупает подарочный сертификат."
   ]
  },
  {
   "cell_type": "code",
   "execution_count": 1,
   "metadata": {},
   "outputs": [
    {
     "data": {
      "text/html": [
       "<div>\n",
       "<style scoped>\n",
       "    .dataframe tbody tr th:only-of-type {\n",
       "        vertical-align: middle;\n",
       "    }\n",
       "\n",
       "    .dataframe tbody tr th {\n",
       "        vertical-align: top;\n",
       "    }\n",
       "\n",
       "    .dataframe thead th {\n",
       "        text-align: right;\n",
       "    }\n",
       "</style>\n",
       "<table border=\"1\" class=\"dataframe\">\n",
       "  <thead>\n",
       "    <tr style=\"text-align: right;\">\n",
       "      <th></th>\n",
       "      <th>Подписка</th>\n",
       "      <th>Товар</th>\n",
       "      <th>Сертификат</th>\n",
       "    </tr>\n",
       "  </thead>\n",
       "  <tbody>\n",
       "    <tr>\n",
       "      <th>Мобильный</th>\n",
       "      <td>0.3</td>\n",
       "      <td>0.25</td>\n",
       "      <td>0.45</td>\n",
       "    </tr>\n",
       "    <tr>\n",
       "      <th>PC</th>\n",
       "      <td>0.2</td>\n",
       "      <td>0.60</td>\n",
       "      <td>0.20</td>\n",
       "    </tr>\n",
       "    <tr>\n",
       "      <th>Web</th>\n",
       "      <td>0.4</td>\n",
       "      <td>0.30</td>\n",
       "      <td>0.20</td>\n",
       "    </tr>\n",
       "  </tbody>\n",
       "</table>\n",
       "</div>"
      ],
      "text/plain": [
       "           Подписка  Товар  Сертификат\n",
       "Мобильный       0.3   0.25        0.45\n",
       "PC              0.2   0.60        0.20\n",
       "Web             0.4   0.30        0.20"
      ]
     },
     "execution_count": 1,
     "metadata": {},
     "output_type": "execute_result"
    }
   ],
   "source": [
    "import pandas as pd\n",
    "pd.DataFrame([[0.3, 0.25, 0.45],\n",
    "              [0.2, 0.6, 0.2],\n",
    "              [0.4, 0.3, 0.2]],\n",
    "             columns=['Подписка', 'Товар', 'Сертификат'],\n",
    "             index=['Мобильный', 'PC', 'Web'])"
   ]
  },
  {
   "cell_type": "markdown",
   "metadata": {},
   "source": [
    "Выше в таблице указаны вероятности действия пользователя при разных вариантах входа в приложение (Пример: с мобильного в 30% покупается подписка, в 25% покупается отдельный товар и тд)."
   ]
  },
  {
   "cell_type": "markdown",
   "metadata": {},
   "source": [
    "## Задание 1"
   ]
  },
  {
   "cell_type": "markdown",
   "metadata": {},
   "source": [
    "Посчитайте вероятность покупки сертификта при заходе через Мобильное устройство <b> или </b> через Web-интерфейс. Не забудьте про соотношение методов входа помимо матрицы вероятностей (!)."
   ]
  },
  {
   "cell_type": "code",
   "execution_count": 7,
   "metadata": {},
   "outputs": [],
   "source": [
    "### YOUR SOLUTION HERE"
   ]
  },
  {
   "cell_type": "markdown",
   "metadata": {},
   "source": [
    "## Задание 2"
   ]
  },
  {
   "cell_type": "markdown",
   "metadata": {},
   "source": [
    "Оказалось, что в коде сервиса был допущен баг, и информация о типе входа не записывалась в базу для каждого пользователя. Было принято решение для каждого типа покупки выбрать наиболее вероятный тип входа в сервис и записать эти значения в базу данных. Для каждого типа покупки вычислите это значение, принимая во внимание соотношение методов входа и матрицу вероятностей."
   ]
  },
  {
   "cell_type": "code",
   "execution_count": 8,
   "metadata": {},
   "outputs": [],
   "source": [
    "### YOUR SOLUTION HERE"
   ]
  },
  {
   "cell_type": "markdown",
   "metadata": {},
   "source": [
    "## Задание 3"
   ]
  },
  {
   "cell_type": "markdown",
   "metadata": {},
   "source": [
    "Изучите 4 распределения из библиотеки scipy: нормальное, экспоненциальное, Стьюдента, Бета. Используя функцию плотности распредления, постройте несколько графиков плотностей для каждого распределения при разных параметрах. Запишите ваши наблюдения: как и на что влияют параметры у каждого распределения."
   ]
  },
  {
   "cell_type": "code",
   "execution_count": 10,
   "metadata": {},
   "outputs": [],
   "source": [
    "### YOUR CODE HERE"
   ]
  }
 ],
 "metadata": {
  "kernelspec": {
   "display_name": "Python 3",
   "language": "python",
   "name": "python3"
  },
  "language_info": {
   "codemirror_mode": {
    "name": "ipython",
    "version": 3
   },
   "file_extension": ".py",
   "mimetype": "text/x-python",
   "name": "python",
   "nbconvert_exporter": "python",
   "pygments_lexer": "ipython3",
   "version": "3.7.6"
  }
 },
 "nbformat": 4,
 "nbformat_minor": 5
}
