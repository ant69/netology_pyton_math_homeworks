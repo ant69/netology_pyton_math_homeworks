{
 "cells": [
  {
   "cell_type": "markdown",
   "metadata": {},
   "source": [
    "## Домашнее задание №0 - Основные математические понятия"
   ]
  },
  {
   "cell_type": "code",
   "execution_count": 33,
   "metadata": {},
   "outputs": [],
   "source": [
    "# Импортируем библиотеки\n",
    "import numpy as np\n",
    "\n",
    "# Для манипуляций с функциями и их производными\n",
    "import sympy as sym"
   ]
  },
  {
   "cell_type": "markdown",
   "metadata": {},
   "source": [
    "### Задание 1."
   ]
  },
  {
   "cell_type": "markdown",
   "metadata": {},
   "source": [
    "Представить фильмы в виде бинарных векторов (numpy array) используя следующие признаки:\n",
    "\n",
    "[Комедия, Боевик, Исторический, Бред Питт, Бенедикт Камбербэтч, Квентин Тарантино]\n",
    "\n",
    "1. Игра в имитацию [https://www.kinopoisk.ru/film/635772/]\n",
    "2. Ярость [https://www.kinopoisk.ru/film/740644/]\n",
    "3. 12 лет рабства [https://www.kinopoisk.ru/film/606646/]\n",
    "4. Однажды в Голливуде [https://www.kinopoisk.ru/film/1047883/]"
   ]
  },
  {
   "cell_type": "code",
   "execution_count": 5,
   "metadata": {},
   "outputs": [],
   "source": [
    "# Зададим структуру векторов с сокращенной информацией о фильмах\n",
    "film_fields = ['comedy', 'action', 'history', 'Brad_Pitt', 'Benedict_Cumberbatch', 'Quentin_Tarantino']\n",
    "# Значения вектора принимают значения 0 (если данный признак не актуален для текущего фильма и 1 в противном случае)\n",
    "# Игра в имитацию (хотя в явном виде жанр history не указан, фильм снят на основе реальной биографии главного героя;\n",
    "# Тем не менее буду формалистом: этот фильм не относится ни к одному из заданных жанров)\n",
    "film_1=np.array([0,0,0,0,1,0])\n",
    "\n",
    "# Ярость\n",
    "film_2=np.array([0,1,0,1,0,0])\n",
    "\n",
    "# 12 лет рабства\n",
    "film_3=np.array([0,0,1,1,1,0])\n",
    "\n",
    "# Однажды в Голливуде (поскольку в условиях задачи не задано, какую именно роль указанного человека надо фиксировать,\n",
    "# не могу не указать Тарантино для фильма, который он снял, хотя вроде бы в качестве актера он в этом фильме не снялся)\n",
    "film_4=np.array([1,0,0,1,0,1])\n",
    "\n",
    "# Для удобства выполнения ряда последующих заданий создадим словарь\n",
    "films = {\n",
    "    'Игра в имитацию': film_1,\n",
    "    'Ярость': film_2,\n",
    "    '12 лет рабства': film_3,\n",
    "    'Однажды в Голливуде': film_4\n",
    "}"
   ]
  },
  {
   "cell_type": "markdown",
   "metadata": {},
   "source": [
    "### Задание 2."
   ]
  },
  {
   "cell_type": "markdown",
   "metadata": {},
   "source": [
    "Вычислить Евклидову норму каждого из векторов, полученных в Задании 1."
   ]
  },
  {
   "cell_type": "code",
   "execution_count": 10,
   "metadata": {},
   "outputs": [
    {
     "name": "stdout",
     "output_type": "stream",
     "text": [
      "Евклидова норма для фильма «Игра в имитацию» равна 1.0\n",
      "Евклидова норма для фильма «Ярость» равна 1.41\n",
      "Евклидова норма для фильма «12 лет рабства» равна 1.73\n",
      "Евклидова норма для фильма «Однажды в Голливуде» равна 1.73\n"
     ]
    }
   ],
   "source": [
    "# Используем для вычисления Евклидовой нормы функцию norm метода linalg библиотеки np\n",
    "for f_title, f_vect in films.items():\n",
    "    print(f'Евклидова норма для фильма «{f_title}» равна {round(np.linalg.norm(f_vect), 2)}')\n"
   ]
  },
  {
   "cell_type": "markdown",
   "metadata": {},
   "source": [
    "### Задание 3."
   ]
  },
  {
   "cell_type": "markdown",
   "metadata": {},
   "source": [
    "Найти угол между векторами-фильмами \"Ярость\" и \"12 лет рабства\". Результатом будет являться косинусная мера, которую можно использовать для определения похожести векторов.  "
   ]
  },
  {
   "cell_type": "code",
   "execution_count": 16,
   "metadata": {},
   "outputs": [
    {
     "data": {
      "text/plain": [
       "65.90515744788931"
      ]
     },
     "execution_count": 16,
     "metadata": {},
     "output_type": "execute_result"
    }
   ],
   "source": [
    "# Вначале посчитаем скалярное расстояние между векторами нужных нам фильмов:\n",
    "s_dist = np.dot(films['Ярость'], films['12 лет рабства'])\n",
    "#s_dist\n",
    "# Теперь вычислим косинус угла между этими векторами\n",
    "films_cos = s_dist/(np.linalg.norm(films['Ярость'])*np.linalg.norm(films['12 лет рабства']))\n",
    "films_cos\n",
    "# Получив значение косинуса, вычислим угол между векторами в радианах и в градусах\n",
    "angle_rad = np.arccos(films_cos)\n",
    "#angle_rad\n",
    "# Варианты перевода радианов в градусы: прямое вычисление или использование спец. функции\n",
    "#angle_degree = np.rad2deg(angle_rad)\n",
    "angle_degree = angle_rad*180/np.pi\n",
    "angle_degree"
   ]
  },
  {
   "cell_type": "markdown",
   "metadata": {},
   "source": [
    "### Задание 4."
   ]
  },
  {
   "cell_type": "markdown",
   "metadata": {},
   "source": [
    "Объединить векторы, полученные в Задании 1 в матрицу, где каждый вектор является строкой матрицы. Полученную матрицу умножить на вектор [1,2,3,4]"
   ]
  },
  {
   "cell_type": "code",
   "execution_count": 56,
   "metadata": {},
   "outputs": [
    {
     "name": "stdout",
     "output_type": "stream",
     "text": [
      "films_matrix =\n",
      "[[0 0 0 0 1 0]\n",
      " [0 1 0 1 0 0]\n",
      " [0 0 1 1 1 0]\n",
      " [1 0 0 1 0 1]],\n",
      "test_vector =\n",
      "[[1 2 3 4]]\n",
      "[[4 2 3 9 4 4]]\n",
      "[[4 2 3 9 4 4]]\n"
     ]
    }
   ],
   "source": [
    "# Вначале создаем список списков, а потом делаем из него матрицу\n",
    "films_list = []\n",
    "for film in films:\n",
    "    # Преобразуем вектор фильма в массив и добавляем его как новый элемент к списку films_list\n",
    "    films_list.append(films[film].tolist())\n",
    "# Создаем матрицу\n",
    "films_matrix = np.array(films_list)\n",
    "# Создаем вектор\n",
    "test_vector = np.array([[1,2,3,4]])\n",
    "print(f'films_matrix =\\n{films_matrix},\\ntest_vector =\\n{test_vector}')\n",
    "\n",
    "# При умножении матриц необходимо выполнение условия, \n",
    "# что количество столбцов в умножаемой матрице равно количеству строк матрицы, на которую идет умножение\n",
    "# В нашем случае по условию задачи требуется умножить матрицу 4x6 на вектор 1x4, и такое умножение невозможно.\n",
    "# Чтобы умножение получилось, либо надо поменять множители местами (вектор умножить на матрицу),\n",
    "# либо транспонировать матрицу и вектор и после этого умножить транспонированную матрицу на траспонированный вектор\n",
    "#multiplied_films = films_matrix*test_vector     # выдает ошибку\n",
    "\n",
    "# Первый вариант - умножение вектора на матрицу\n",
    "print(np.dot(test_vector,films_matrix))\n",
    "\n",
    "# Второй вариант - умножение транспонированных матрицы и вектора и транспонирование результата:\n",
    "print(np.dot(films_matrix.transpose(),test_vector.transpose()).transpose())\n",
    "\n",
    "# Видно, что оба способа дали один и тот же результат."
   ]
  },
  {
   "cell_type": "markdown",
   "metadata": {},
   "source": [
    "### Задание 5."
   ]
  },
  {
   "cell_type": "markdown",
   "metadata": {},
   "source": [
    "Вычислить на бумаге и с помощью Python значение первой и второй производной для функции $3x(x^2+x)^3$ в точке $x=1$"
   ]
  },
  {
   "cell_type": "code",
   "execution_count": 57,
   "metadata": {},
   "outputs": [],
   "source": [
    "# Это задание частично было разобрано во время лекции, так что ради интереса часть кода поменяю.\n",
    "x = sym.Symbol('x')"
   ]
  },
  {
   "cell_type": "code",
   "execution_count": 71,
   "metadata": {},
   "outputs": [
    {
     "data": {
      "text/latex": [
       "$\\displaystyle 3 x \\left(x^{2} + x\\right)^{3}$"
      ],
      "text/plain": [
       "3*x*(x**2 + x)**3"
      ]
     },
     "execution_count": 71,
     "metadata": {},
     "output_type": "execute_result"
    }
   ],
   "source": [
    "# Задаем исходную формулу\n",
    "src = 3*x*(x**2+x)**(3)\n",
    "src"
   ]
  },
  {
   "cell_type": "code",
   "execution_count": 72,
   "metadata": {},
   "outputs": [
    {
     "data": {
      "text/latex": [
       "$\\displaystyle 3 x^{7} + 9 x^{6} + 9 x^{5} + 3 x^{4}$"
      ],
      "text/plain": [
       "3*x**7 + 9*x**6 + 9*x**5 + 3*x**4"
      ]
     },
     "execution_count": 72,
     "metadata": {},
     "output_type": "execute_result"
    }
   ],
   "source": [
    "# Для упрощения процедуры дифференцирования и повышения наглядности развернем эту формулу с помощью функции expand\n",
    "src_2 = sym.expand(src)\n",
    "src_2"
   ]
  },
  {
   "cell_type": "code",
   "execution_count": 73,
   "metadata": {},
   "outputs": [
    {
     "data": {
      "text/latex": [
       "$\\displaystyle 21 x^{6} + 54 x^{5} + 45 x^{4} + 12 x^{3}$"
      ],
      "text/plain": [
       "21*x**6 + 54*x**5 + 45*x**4 + 12*x**3"
      ]
     },
     "execution_count": 73,
     "metadata": {},
     "output_type": "execute_result"
    }
   ],
   "source": [
    "# Вычисляем первую производную раскрытого выражения\n",
    "res_1=sym.diff(src_2,x)\n",
    "res_1"
   ]
  },
  {
   "cell_type": "code",
   "execution_count": 74,
   "metadata": {},
   "outputs": [
    {
     "data": {
      "text/latex": [
       "$\\displaystyle 126 x^{5} + 270 x^{4} + 180 x^{3} + 36 x^{2}$"
      ],
      "text/plain": [
       "126*x**5 + 270*x**4 + 180*x**3 + 36*x**2"
      ]
     },
     "execution_count": 74,
     "metadata": {},
     "output_type": "execute_result"
    }
   ],
   "source": [
    "# Сразу же вычисляем и вторую производную\n",
    "res_2 = sym.diff(res_1)\n",
    "res_2"
   ]
  },
  {
   "cell_type": "code",
   "execution_count": 76,
   "metadata": {},
   "outputs": [
    {
     "name": "stdout",
     "output_type": "stream",
     "text": [
      "В точке х=1 значение первой производной = 132, значение второй производной = 612\n"
     ]
    }
   ],
   "source": [
    "# Выводим результаты\n",
    "print(f'В точке х=1 значение первой производной = {res_1.subs(x,1)}, значение второй производной = {res_2.subs(x,1)}')"
   ]
  },
  {
   "cell_type": "code",
   "execution_count": 81,
   "metadata": {},
   "outputs": [
    {
     "data": {
      "text/latex": [
       "$\\displaystyle x^{3} \\left(21 x^{3} + 54 x^{2} + 45 x + 12\\right)$"
      ],
      "text/plain": [
       "x**3*(21*x**3 + 54*x**2 + 45*x + 12)"
      ]
     },
     "execution_count": 81,
     "metadata": {},
     "output_type": "execute_result"
    }
   ],
   "source": [
    "# Интересно было бы как-то упростить функции для производных, но получающиеся результаты упрощения кажутся не идеальными:\n",
    "sym.simplify(res_1)"
   ]
  },
  {
   "cell_type": "code",
   "execution_count": 82,
   "metadata": {},
   "outputs": [
    {
     "data": {
      "text/latex": [
       "$\\displaystyle x^{2} \\left(126 x^{3} + 270 x^{2} + 180 x + 36\\right)$"
      ],
      "text/plain": [
       "x**2*(126*x**3 + 270*x**2 + 180*x + 36)"
      ]
     },
     "execution_count": 82,
     "metadata": {},
     "output_type": "execute_result"
    }
   ],
   "source": [
    "sym.simplify(res_2)"
   ]
  }
 ],
 "metadata": {
  "kernelspec": {
   "display_name": "Python 3",
   "language": "python",
   "name": "python3"
  },
  "language_info": {
   "codemirror_mode": {
    "name": "ipython",
    "version": 3
   },
   "file_extension": ".py",
   "mimetype": "text/x-python",
   "name": "python",
   "nbconvert_exporter": "python",
   "pygments_lexer": "ipython3",
   "version": "3.8.8"
  }
 },
 "nbformat": 4,
 "nbformat_minor": 4
}
