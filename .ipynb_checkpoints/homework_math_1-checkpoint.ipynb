{
 "cells": [
  {
   "cell_type": "code",
   "execution_count": 1,
   "metadata": {},
   "outputs": [],
   "source": [
    "# Вначале загружаем библиотеки\n",
    "import numpy as np"
   ]
  },
  {
   "cell_type": "markdown",
   "metadata": {},
   "source": [
    "## Домашнее задание №1 - Линейная алгебра. Матрицы"
   ]
  },
  {
   "cell_type": "markdown",
   "metadata": {},
   "source": [
    "### Задание 1."
   ]
  },
  {
   "cell_type": "markdown",
   "metadata": {},
   "source": [
    "Создайте случайную матрицу $А_1$ размерностью $5$ на $5$. Вычислить транспонированную матрицу $A^T$ и найти обратную матрицу $A^{-1}$\n",
    "Найдите определитель и ранг каждой полученной матрицы."
   ]
  },
  {
   "cell_type": "code",
   "execution_count": 15,
   "metadata": {},
   "outputs": [
    {
     "name": "stdout",
     "output_type": "stream",
     "text": [
      "Исходная матрица:\n",
      " [[0.33941283 0.20581687 0.05276625 0.20381008 0.25835138]\n",
      " [0.30384152 0.88536671 0.0629623  0.3333006  0.69458877]\n",
      " [0.07318891 0.37039098 0.71219415 0.1876256  0.27754316]\n",
      " [0.66186709 0.97450686 0.87220125 0.50579532 0.90838685]\n",
      " [0.26523739 0.75549139 0.98778117 0.00144577 0.9105065 ]]\n",
      "Определитель исходной матрицы: -0.0036250511159310397, её ранг: 5\n",
      "\n",
      "Транспонированная матрица:\n",
      " [[0.33941283 0.30384152 0.07318891 0.66186709 0.26523739]\n",
      " [0.20581687 0.88536671 0.37039098 0.97450686 0.75549139]\n",
      " [0.05276625 0.0629623  0.71219415 0.87220125 0.98778117]\n",
      " [0.20381008 0.3333006  0.1876256  0.50579532 0.00144577]\n",
      " [0.25835138 0.69458877 0.27754316 0.90838685 0.9105065 ]]\n",
      "Определитель транспонированной матрицы: -0.0036250511159310397, её ранг: 5\n",
      "\n",
      "Обратная матрица:\n",
      " [[-13.93047281  -4.26202319 -11.38322644  12.64998797  -1.94664823]\n",
      " [-21.29499911  -2.39451924 -11.79977563  14.54456365  -3.0448381 ]\n",
      " [ -2.03467377  -1.1514126   -0.17474867   1.64380775  -0.13101941]\n",
      " [ 19.83678397   4.1464862   14.09181019 -13.97835868   0.85854253]\n",
      " [ 23.90340283   4.47095697  13.27406894 -17.51448804   4.33258862]]\n",
      "Определитель обратной матрицы: -275.8581791040951, её ранг: 5\n",
      "\n",
      "Произведение исходной и обратной матриц:\n",
      " [[ 1.00000000e+00  6.66133815e-16  2.22044605e-15  0.00000000e+00\n",
      "   4.44089210e-16]\n",
      " [-3.55271368e-15  1.00000000e+00  0.00000000e+00  3.55271368e-15\n",
      "  -4.44089210e-16]\n",
      " [ 0.00000000e+00  2.22044605e-16  1.00000000e+00  8.88178420e-16\n",
      "   0.00000000e+00]\n",
      " [ 0.00000000e+00  0.00000000e+00  1.77635684e-15  1.00000000e+00\n",
      "   0.00000000e+00]\n",
      " [ 0.00000000e+00  0.00000000e+00 -1.77635684e-15  0.00000000e+00\n",
      "   1.00000000e+00]]\n"
     ]
    }
   ],
   "source": [
    "# Создаем матрицу 5x5\n",
    "A1 = np.random.random((5,5))\n",
    "print('Исходная матрица:\\n', A1)\n",
    "print(f'Определитель исходной матрицы: {np.linalg.det(A1)}, её ранг: {np.linalg.matrix_rank(A1)}')\n",
    "\n",
    "# Создаем транспонированную матрицу из A1\n",
    "A1_Trans = A1.transpose()\n",
    "print('\\nТранспонированная матрица:\\n', A1_Trans)\n",
    "print(f'Определитель транспонированной матрицы: {np.linalg.det(A1_Trans)}, её ранг: {np.linalg.matrix_rank(A1_Trans)}')\n",
    "\n",
    "# Создаем обратную матрицу из A1\n",
    "A1_Inv = np.linalg.inv(A1)\n",
    "print('\\nОбратная матрица:\\n', A1_Inv)\n",
    "print(f'Определитель обратной матрицы: {np.linalg.det(A1_Inv)}, её ранг: {np.linalg.matrix_rank(A1_Inv)}')\n",
    "\n",
    "# Из спортивного интереса проверяем\n",
    "print('\\nПроизведение исходной и обратной матриц:\\n', A1@A1_Inv)\n",
    "\n",
    "# Ожидаемо получили совпадение определителя и ранга исходной и транспонированной матриц"
   ]
  },
  {
   "cell_type": "markdown",
   "metadata": {},
   "source": [
    "### Задание 2."
   ]
  },
  {
   "cell_type": "markdown",
   "metadata": {},
   "source": [
    "Создайте диагональную матрицу, поэлементно перемножив единичную матрицу $I$ и случайную матрицу $A_2$ размерности $6$ на $6$ \n",
    "Найдите определитель и ранг полученной матрицы.   "
   ]
  },
  {
   "cell_type": "code",
   "execution_count": 20,
   "metadata": {},
   "outputs": [
    {
     "name": "stdout",
     "output_type": "stream",
     "text": [
      "Случайная матрица 6x6:\n",
      " [[0.83086974 0.79730712 0.40701017 0.57160145 0.88815491 0.5150232 ]\n",
      " [0.62947635 0.285465   0.95829511 0.36548615 0.75392498 0.09038337]\n",
      " [0.18398968 0.65129324 0.47258972 0.94468383 0.09776245 0.94173335]\n",
      " [0.78786263 0.27793444 0.51625047 0.79750473 0.09570236 0.41758083]\n",
      " [0.46229196 0.54446496 0.26909061 0.84745615 0.04026929 0.80370476]\n",
      " [0.70615947 0.32656026 0.42269627 0.00228527 0.46185423 0.47690918]]\n",
      "\n",
      " Единичная матрица 6x6:\n",
      " [[1. 0. 0. 0. 0. 0.]\n",
      " [0. 1. 0. 0. 0. 0.]\n",
      " [0. 0. 1. 0. 0. 0.]\n",
      " [0. 0. 0. 1. 0. 0.]\n",
      " [0. 0. 0. 0. 1. 0.]\n",
      " [0. 0. 0. 0. 0. 1.]]\n",
      "\n",
      " Результат их поэлементного умножения:\n",
      " [[0.83086974 0.         0.         0.         0.         0.        ]\n",
      " [0.         0.285465   0.         0.         0.         0.        ]\n",
      " [0.         0.         0.47258972 0.         0.         0.        ]\n",
      " [0.         0.         0.         0.79750473 0.         0.        ]\n",
      " [0.         0.         0.         0.         0.04026929 0.        ]\n",
      " [0.         0.         0.         0.         0.         0.47690918]]\n",
      "\n",
      " Определитель результирующей матрицы: 0.0017167732891750882  Её ранг: 6\n"
     ]
    }
   ],
   "source": [
    "A2 = np.random.random((6,6))\n",
    "print('Случайная матрица 6x6:\\n', A2)\n",
    "I1 = np.eye(6)\n",
    "print('\\n','Единичная матрица 6x6:\\n', I1)\n",
    "A2I1 = A2*I1\n",
    "print('\\n','Результат их поэлементного умножения:\\n', A2I1)\n",
    "print(f'\\n Определитель результирующей матрицы: {np.linalg.det(A2I1)}  Её ранг: {np.linalg.matrix_rank(A2I1)}')\n",
    "\n",
    "# Ожидаемо результатом умножения двух матриц стала диагональная матрица, у которой ранг равен размерности,\n",
    "# а определитель - произведению элементов диагонали."
   ]
  },
  {
   "cell_type": "markdown",
   "metadata": {},
   "source": [
    "### Задание 3."
   ]
  },
  {
   "cell_type": "markdown",
   "metadata": {},
   "source": [
    "Далее давайте представим изображения в виде матриц и также определим их свойства. \n",
    "Для первых $10$ цифр (от $0$ до $9$) из тестовой базы рукописных цифр (MNIST) определить какая из этих цифр имеет максимальный ранг?"
   ]
  },
  {
   "cell_type": "code",
   "execution_count": 25,
   "metadata": {},
   "outputs": [
    {
     "data": {
      "text/plain": [
       "{'data': array([[ 0.,  0.,  5., ...,  0.,  0.,  0.],\n",
       "        [ 0.,  0.,  0., ..., 10.,  0.,  0.],\n",
       "        [ 0.,  0.,  0., ..., 16.,  9.,  0.],\n",
       "        ...,\n",
       "        [ 0.,  0.,  1., ...,  6.,  0.,  0.],\n",
       "        [ 0.,  0.,  2., ..., 12.,  0.,  0.],\n",
       "        [ 0.,  0., 10., ..., 12.,  1.,  0.]]),\n",
       " 'target': array([0, 1, 2, ..., 8, 9, 8]),\n",
       " 'frame': None,\n",
       " 'feature_names': ['pixel_0_0',\n",
       "  'pixel_0_1',\n",
       "  'pixel_0_2',\n",
       "  'pixel_0_3',\n",
       "  'pixel_0_4',\n",
       "  'pixel_0_5',\n",
       "  'pixel_0_6',\n",
       "  'pixel_0_7',\n",
       "  'pixel_1_0',\n",
       "  'pixel_1_1',\n",
       "  'pixel_1_2',\n",
       "  'pixel_1_3',\n",
       "  'pixel_1_4',\n",
       "  'pixel_1_5',\n",
       "  'pixel_1_6',\n",
       "  'pixel_1_7',\n",
       "  'pixel_2_0',\n",
       "  'pixel_2_1',\n",
       "  'pixel_2_2',\n",
       "  'pixel_2_3',\n",
       "  'pixel_2_4',\n",
       "  'pixel_2_5',\n",
       "  'pixel_2_6',\n",
       "  'pixel_2_7',\n",
       "  'pixel_3_0',\n",
       "  'pixel_3_1',\n",
       "  'pixel_3_2',\n",
       "  'pixel_3_3',\n",
       "  'pixel_3_4',\n",
       "  'pixel_3_5',\n",
       "  'pixel_3_6',\n",
       "  'pixel_3_7',\n",
       "  'pixel_4_0',\n",
       "  'pixel_4_1',\n",
       "  'pixel_4_2',\n",
       "  'pixel_4_3',\n",
       "  'pixel_4_4',\n",
       "  'pixel_4_5',\n",
       "  'pixel_4_6',\n",
       "  'pixel_4_7',\n",
       "  'pixel_5_0',\n",
       "  'pixel_5_1',\n",
       "  'pixel_5_2',\n",
       "  'pixel_5_3',\n",
       "  'pixel_5_4',\n",
       "  'pixel_5_5',\n",
       "  'pixel_5_6',\n",
       "  'pixel_5_7',\n",
       "  'pixel_6_0',\n",
       "  'pixel_6_1',\n",
       "  'pixel_6_2',\n",
       "  'pixel_6_3',\n",
       "  'pixel_6_4',\n",
       "  'pixel_6_5',\n",
       "  'pixel_6_6',\n",
       "  'pixel_6_7',\n",
       "  'pixel_7_0',\n",
       "  'pixel_7_1',\n",
       "  'pixel_7_2',\n",
       "  'pixel_7_3',\n",
       "  'pixel_7_4',\n",
       "  'pixel_7_5',\n",
       "  'pixel_7_6',\n",
       "  'pixel_7_7'],\n",
       " 'target_names': array([0, 1, 2, 3, 4, 5, 6, 7, 8, 9]),\n",
       " 'images': array([[[ 0.,  0.,  5., ...,  1.,  0.,  0.],\n",
       "         [ 0.,  0., 13., ..., 15.,  5.,  0.],\n",
       "         [ 0.,  3., 15., ..., 11.,  8.,  0.],\n",
       "         ...,\n",
       "         [ 0.,  4., 11., ..., 12.,  7.,  0.],\n",
       "         [ 0.,  2., 14., ..., 12.,  0.,  0.],\n",
       "         [ 0.,  0.,  6., ...,  0.,  0.,  0.]],\n",
       " \n",
       "        [[ 0.,  0.,  0., ...,  5.,  0.,  0.],\n",
       "         [ 0.,  0.,  0., ...,  9.,  0.,  0.],\n",
       "         [ 0.,  0.,  3., ...,  6.,  0.,  0.],\n",
       "         ...,\n",
       "         [ 0.,  0.,  1., ...,  6.,  0.,  0.],\n",
       "         [ 0.,  0.,  1., ...,  6.,  0.,  0.],\n",
       "         [ 0.,  0.,  0., ..., 10.,  0.,  0.]],\n",
       " \n",
       "        [[ 0.,  0.,  0., ..., 12.,  0.,  0.],\n",
       "         [ 0.,  0.,  3., ..., 14.,  0.,  0.],\n",
       "         [ 0.,  0.,  8., ..., 16.,  0.,  0.],\n",
       "         ...,\n",
       "         [ 0.,  9., 16., ...,  0.,  0.,  0.],\n",
       "         [ 0.,  3., 13., ..., 11.,  5.,  0.],\n",
       "         [ 0.,  0.,  0., ..., 16.,  9.,  0.]],\n",
       " \n",
       "        ...,\n",
       " \n",
       "        [[ 0.,  0.,  1., ...,  1.,  0.,  0.],\n",
       "         [ 0.,  0., 13., ...,  2.,  1.,  0.],\n",
       "         [ 0.,  0., 16., ..., 16.,  5.,  0.],\n",
       "         ...,\n",
       "         [ 0.,  0., 16., ..., 15.,  0.,  0.],\n",
       "         [ 0.,  0., 15., ..., 16.,  0.,  0.],\n",
       "         [ 0.,  0.,  2., ...,  6.,  0.,  0.]],\n",
       " \n",
       "        [[ 0.,  0.,  2., ...,  0.,  0.,  0.],\n",
       "         [ 0.,  0., 14., ..., 15.,  1.,  0.],\n",
       "         [ 0.,  4., 16., ..., 16.,  7.,  0.],\n",
       "         ...,\n",
       "         [ 0.,  0.,  0., ..., 16.,  2.,  0.],\n",
       "         [ 0.,  0.,  4., ..., 16.,  2.,  0.],\n",
       "         [ 0.,  0.,  5., ..., 12.,  0.,  0.]],\n",
       " \n",
       "        [[ 0.,  0., 10., ...,  1.,  0.,  0.],\n",
       "         [ 0.,  2., 16., ...,  1.,  0.,  0.],\n",
       "         [ 0.,  0., 15., ..., 15.,  0.,  0.],\n",
       "         ...,\n",
       "         [ 0.,  4., 16., ..., 16.,  6.,  0.],\n",
       "         [ 0.,  8., 16., ..., 16.,  8.,  0.],\n",
       "         [ 0.,  1.,  8., ..., 12.,  1.,  0.]]]),\n",
       " 'DESCR': \".. _digits_dataset:\\n\\nOptical recognition of handwritten digits dataset\\n--------------------------------------------------\\n\\n**Data Set Characteristics:**\\n\\n    :Number of Instances: 1797\\n    :Number of Attributes: 64\\n    :Attribute Information: 8x8 image of integer pixels in the range 0..16.\\n    :Missing Attribute Values: None\\n    :Creator: E. Alpaydin (alpaydin '@' boun.edu.tr)\\n    :Date: July; 1998\\n\\nThis is a copy of the test set of the UCI ML hand-written digits datasets\\nhttps://archive.ics.uci.edu/ml/datasets/Optical+Recognition+of+Handwritten+Digits\\n\\nThe data set contains images of hand-written digits: 10 classes where\\neach class refers to a digit.\\n\\nPreprocessing programs made available by NIST were used to extract\\nnormalized bitmaps of handwritten digits from a preprinted form. From a\\ntotal of 43 people, 30 contributed to the training set and different 13\\nto the test set. 32x32 bitmaps are divided into nonoverlapping blocks of\\n4x4 and the number of on pixels are counted in each block. This generates\\nan input matrix of 8x8 where each element is an integer in the range\\n0..16. This reduces dimensionality and gives invariance to small\\ndistortions.\\n\\nFor info on NIST preprocessing routines, see M. D. Garris, J. L. Blue, G.\\nT. Candela, D. L. Dimmick, J. Geist, P. J. Grother, S. A. Janet, and C.\\nL. Wilson, NIST Form-Based Handprint Recognition System, NISTIR 5469,\\n1994.\\n\\n.. topic:: References\\n\\n  - C. Kaynak (1995) Methods of Combining Multiple Classifiers and Their\\n    Applications to Handwritten Digit Recognition, MSc Thesis, Institute of\\n    Graduate Studies in Science and Engineering, Bogazici University.\\n  - E. Alpaydin, C. Kaynak (1998) Cascading Classifiers, Kybernetika.\\n  - Ken Tang and Ponnuthurai N. Suganthan and Xi Yao and A. Kai Qin.\\n    Linear dimensionalityreduction using relevance weighted LDA. School of\\n    Electrical and Electronic Engineering Nanyang Technological University.\\n    2005.\\n  - Claudio Gentile. A New Approximate Maximal Margin Classification\\n    Algorithm. NIPS. 2000.\\n\"}"
      ]
     },
     "execution_count": 25,
     "metadata": {},
     "output_type": "execute_result"
    }
   ],
   "source": [
    "import numpy as np\n",
    "from sklearn.datasets import load_digits\n",
    "import matplotlib.pyplot as plt\n",
    "digits = load_digits()\n",
    "digits"
   ]
  },
  {
   "cell_type": "code",
   "execution_count": 26,
   "metadata": {},
   "outputs": [
    {
     "data": {
      "text/plain": [
       "<Figure size 432x288 with 0 Axes>"
      ]
     },
     "metadata": {},
     "output_type": "display_data"
    },
    {
     "data": {
      "image/png": "[encoded data removed]",
      "text/plain": [
       "<Figure size 288x288 with 1 Axes>"
      ]
     },
     "metadata": {
      "needs_background": "light"
     },
     "output_type": "display_data"
    }
   ],
   "source": [
    "# Смотрим, как выглядит цифра 0\n",
    "plt.gray();\n",
    "plt.matshow(digits.images[0]);\n",
    "plt.show()"
   ]
  },
  {
   "cell_type": "code",
   "execution_count": 28,
   "metadata": {},
   "outputs": [
    {
     "data": {
      "text/plain": [
       "array([[ 0.,  0.,  5., 13.,  9.,  1.,  0.,  0.],\n",
       "       [ 0.,  0., 13., 15., 10., 15.,  5.,  0.],\n",
       "       [ 0.,  3., 15.,  2.,  0., 11.,  8.,  0.],\n",
       "       [ 0.,  4., 12.,  0.,  0.,  8.,  8.,  0.],\n",
       "       [ 0.,  5.,  8.,  0.,  0.,  9.,  8.,  0.],\n",
       "       [ 0.,  4., 11.,  0.,  1., 12.,  7.,  0.],\n",
       "       [ 0.,  2., 14.,  5., 10., 12.,  0.,  0.],\n",
       "       [ 0.,  0.,  6., 13., 10.,  0.,  0.,  0.]])"
      ]
     },
     "execution_count": 28,
     "metadata": {},
     "output_type": "execute_result"
    }
   ],
   "source": [
    "# Смотрим, как она закодирована\n",
    "matrix = digits.images[0]\n",
    "matrix"
   ]
  },
  {
   "cell_type": "code",
   "execution_count": 43,
   "metadata": {},
   "outputs": [
    {
     "name": "stdout",
     "output_type": "stream",
     "text": [
      "Максимальный ранг 7 - у цифры 7.\n",
      "Вот её матрица:\n",
      "[[ 0.  0.  7.  8. 13. 16. 15.  1.]\n",
      " [ 0.  0.  7.  7.  4. 11. 12.  0.]\n",
      " [ 0.  0.  0.  0.  8. 13.  1.  0.]\n",
      " [ 0.  4.  8.  8. 15. 15.  6.  0.]\n",
      " [ 0.  2. 11. 15. 15.  4.  0.  0.]\n",
      " [ 0.  0.  0. 16.  5.  0.  0.  0.]\n",
      " [ 0.  0.  9. 15.  1.  0.  0.  0.]\n",
      " [ 0.  0. 13.  5.  0.  0.  0.  0.]]\n"
     ]
    }
   ],
   "source": [
    "cur_digit=0\n",
    "max_rank_digit = 0\n",
    "max_rank = 0\n",
    "for digit_matrix in digits.images:\n",
    "    digit_rank = np.linalg.matrix_rank(digit_matrix)\n",
    "    if (digit_rank > max_rank):\n",
    "        max_rank = digit_rank\n",
    "        max_rank_digit = cur_digit\n",
    "    cur_digit += 1\n",
    "    if cur_digit == 10:\n",
    "        break\n",
    "print(f'Максимальный ранг {max_rank} - у цифры {max_rank_digit}.\\nВот её матрица:\\n{digits.images[max_rank_digit]}')    "
   ]
  },
  {
   "cell_type": "markdown",
   "metadata": {},
   "source": [
    "### Задание 4."
   ]
  },
  {
   "cell_type": "markdown",
   "metadata": {},
   "source": [
    "Для первых $10$ цифр (от $0$ до $9$) из тестовой базы рукописных цифр (MNIST) найдите все собственные числа. Для каких цифр все собственные значения не являются комплексными? Подробнее о комплексных числах можно почитать [здесь](https://ru.wikipedia.org/wiki/%D0%9A%D0%BE%D0%BC%D0%BF%D0%BB%D0%B5%D0%BA%D1%81%D0%BD%D0%BE%D0%B5_%D1%87%D0%B8%D1%81%D0%BB%D0%BE) "
   ]
  },
  {
   "cell_type": "code",
   "execution_count": 53,
   "metadata": {},
   "outputs": [
    {
     "name": "stdout",
     "output_type": "stream",
     "text": [
      "[  0.           0.          38.87795499  -3.63459035  -0.73101\n",
      "   3.91352574   2.68851616 -14.11439655]\n",
      "У цифры 0 собственные числа НЕ включают комплексные.\n",
      "\n",
      "[ 0.        +0.j          0.        +0.j          0.        +0.j\n",
      " 43.90876882+0.j         -2.81320584+5.92806111j -2.81320584-5.92806111j\n",
      "  1.35882143+0.32955102j  1.35882143-0.32955102j]\n",
      "У цифры 1 среди собственных чисел есть комплексные.\n",
      "\n",
      "[  0.           0.           5.          39.6980372  -18.4455357\n",
      "  -4.77732707   8.20786562   4.31695994]\n",
      "У цифры 2 собственные числа НЕ включают комплексные.\n",
      "\n",
      "[ 0.        +0.j          0.        +0.j         26.78722854+0.j\n",
      " -4.6394655 +0.j          0.69927242+0.j         11.54360992+6.68082411j\n",
      " 11.54360992-6.68082411j  9.0657447 +0.j        ]\n",
      "У цифры 3 среди собственных чисел есть комплексные.\n",
      "\n",
      "[  0.        +0.j           0.        +0.j\n",
      "  42.31646853+0.j         -16.51428562+0.j\n",
      "   2.74751936+8.20271632j   2.74751936-8.20271632j\n",
      "  -1.03051134+0.j           1.73328971+0.j        ]\n",
      "У цифры 4 среди собственных чисел есть комплексные.\n",
      "\n",
      "[ 0.        +0.j          0.        +0.j          0.        +0.j\n",
      " 37.46865411+0.j         19.99538181+0.j         -2.16232674+0.79050023j\n",
      " -2.16232674-0.79050023j  2.86061757+0.j        ]\n",
      "У цифры 5 среди собственных чисел есть комплексные.\n",
      "\n",
      "[ 0.          0.          0.         30.23327329 20.52704925 -2.74115196\n",
      "  5.8593327   3.12149672]\n",
      "У цифры 6 собственные числа НЕ включают комплексные.\n",
      "\n",
      "[  0.        +0.j           0.        +0.j\n",
      "  38.91161854+0.j         -13.97150918+0.j\n",
      "   6.08033452+0.j          -1.23858742+6.12713731j\n",
      "  -1.23858742-6.12713731j  -5.54326904+0.j        ]\n",
      "У цифры 7 среди собственных чисел есть комплексные.\n",
      "\n",
      "[ 0.        +0.j          0.        +0.j         44.56329631+0.j\n",
      " 18.3859097 +0.j         -1.71753054+6.38032702j -1.71753054-6.38032702j\n",
      "  4.59692012+0.j         -2.11106505+0.j        ]\n",
      "У цифры 8 среди собственных чисел есть комплексные.\n",
      "\n",
      "[  0.        +0.j           0.        +0.j\n",
      "  40.5091891 +0.j          16.66230149+0.j\n",
      " -12.29208882+0.j          -3.97807147+0.j\n",
      "   0.04933485+4.15644444j   0.04933485-4.15644444j]\n",
      "У цифры 9 среди собственных чисел есть комплексные.\n",
      "\n"
     ]
    }
   ],
   "source": [
    "# Используем найденную в просторах интернета функцию проверки числа на то, что оно - комплексное\n",
    "def isComplex(value):\n",
    "    \"\"\"\n",
    "    Проверит является ли число комплексным\n",
    " \n",
    "    :param value: число тип которго надо проверить\n",
    "    :return:\n",
    "    \"\"\"\n",
    "    return (isinstance(value, complex) # комплексный тип\n",
    "                and (value.imag != 0)) # мнимая часть не равна нулю\n",
    "\n",
    "# Также определим функцию, принимающую список и определяющую, есть ли в списке хотя бы одно комплексное число\n",
    "def containsComplex(foo_list):\n",
    "    for lst_item in foo_list:\n",
    "        if isComplex(lst_item):\n",
    "            return True\n",
    "    return False    \n",
    "\n",
    "# Инициализируем индекс, совпадающий с кодируемым числом\n",
    "cur_digit = 0\n",
    "while cur_digit < 10:\n",
    "    digit_eigval = np.linalg.eigvals(digits.images[cur_digit])\n",
    "    # Для самопроверки выводим список собственных чисел\n",
    "    print(digit_eigval)\n",
    "    \n",
    "    # Выводим результат проверки того, является ли текущая цифра complex-free :)\n",
    "    if containsComplex(digit_eigval):\n",
    "        print(f'У цифры {cur_digit} среди собственных чисел есть комплексные.\\n')    \n",
    "    else:\n",
    "        print(f'У цифры {cur_digit} собственные числа НЕ включают комплексные.\\n')   \n",
    "    cur_digit += 1    \n",
    "\n",
    "# Итого получили, что не содержат комплексных чисел собственные числа цифр 0, 2 и 6"
   ]
  }
 ],
 "metadata": {
  "kernelspec": {
   "display_name": "Python 3",
   "language": "python",
   "name": "python3"
  },
  "language_info": {
   "codemirror_mode": {
    "name": "ipython",
    "version": 3
   },
   "file_extension": ".py",
   "mimetype": "text/x-python",
   "name": "python",
   "nbconvert_exporter": "python",
   "pygments_lexer": "ipython3",
   "version": "3.8.8"
  }
 },
 "nbformat": 4,
 "nbformat_minor": 4
}
